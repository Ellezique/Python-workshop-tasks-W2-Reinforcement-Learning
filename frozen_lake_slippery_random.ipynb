{
 "cells": [
  {
   "cell_type": "markdown",
   "source": [
    "### FrozenLake-v1\n",
    "\"The agent controls the movement of a character in a grid world. Some tiles of the grid are walkable, and others lead to the agent falling into the water. Additionally, the movement direction of the agent is uncertain and only partially depends on the chosen direction. The agent is rewarded for finding a walkable path to a goal tile.\"\n",
    "https://gym.openai.com/envs/FrozenLake-v0/ \n",
    "\n",
    "The below is Frozen Lake set to slippery and random. The agent will not do well if it can only see its immediate surroundings in a random map but if it can see the whole map, it can do well with training and avoid holes ie it can avoid holes if it can see them before moving to hole.\n",
    "\n",
    "#### SUMMARY\n",
    "Environment: The whole grid world including all squares e.g. 4x4 = 16 squares\n",
    "State: One square\n",
    "Agent: Can occupy one state at a time, can perform actions (up, down, left, right). As the agent travels and explores the environment it will work out th ebest policy.\n",
    "Reward: +1 when finding the fisbee goal, -1 when falling in a hole.Can implement a negative reward eg -0.1 per step i.e. higher reward if reached faster.\n",
    "Policy: Map & information about what action to take in a particular state. The best policy is to thake the best action in a particular state. Find a policy that allows agent to gain maxium reward.\n",
    "\n",
    "###### Q-TABLE (reward table)\n",
    "As the agent expolores, it records the best action to take for each state (square) in the Q-Table \n",
    "e.g. If you start in state C1 and the reward is at A1, it is best to move up when in square C1. From B1 it is then best to move up and get the reward at A1.\n",
    "\n",
    "###### Goal: The way to choose the best action fr every state in the environment.\n",
    "- Gym presets the reward ie cannot change reward to solve these problems. \n",
    "- You can change how the q-table is populated. You can change how the Q-table is calculated on each step. e.g. Keep track of the reward for each step and long term.\n"
   ],
   "metadata": {}
  },
  {
   "cell_type": "code",
   "execution_count": 210,
   "source": [
    "import numpy as np\n",
    "import gym\n",
    "import random\n",
    "import time\n",
    "from IPython.display import clear_output\n",
    "from gym.envs.toy_text.frozen_lake import generate_random_map\n",
    "\n",
    "import matplotlib.pyplot as plt\n",
    "import gc\n",
    "gc.disable() #Disable automatic garbage collection."
   ],
   "outputs": [],
   "metadata": {}
  },
  {
   "cell_type": "code",
   "execution_count": 211,
   "source": [
    "env = gym.make('FrozenLake-v1', is_slippery=True )\n",
    "action_space_size = env.action_space.n\n",
    "state_space_size = env.observation_space.n\n",
    "q_table = np.zeros((state_space_size, action_space_size))\n",
    "print(\"The dimensions of the q table are: \", q_table.shape)\n",
    "print(q_table)\n"
   ],
   "outputs": [
    {
     "output_type": "stream",
     "name": "stdout",
     "text": [
      "The dimensions of the q table are:  (16, 4)\n",
      "[[0. 0. 0. 0.]\n",
      " [0. 0. 0. 0.]\n",
      " [0. 0. 0. 0.]\n",
      " [0. 0. 0. 0.]\n",
      " [0. 0. 0. 0.]\n",
      " [0. 0. 0. 0.]\n",
      " [0. 0. 0. 0.]\n",
      " [0. 0. 0. 0.]\n",
      " [0. 0. 0. 0.]\n",
      " [0. 0. 0. 0.]\n",
      " [0. 0. 0. 0.]\n",
      " [0. 0. 0. 0.]\n",
      " [0. 0. 0. 0.]\n",
      " [0. 0. 0. 0.]\n",
      " [0. 0. 0. 0.]\n",
      " [0. 0. 0. 0.]]\n"
     ]
    }
   ],
   "metadata": {}
  },
  {
   "cell_type": "code",
   "execution_count": 212,
   "source": [
    "num_episodes = 20000\n",
    "max_steps_per_episode = 500\n",
    "\n",
    "learning_rate = 0.99 #0.03 #Between 0 and 1. How quickly the agent abandons the previous value in the Q table for the new value. 0: Agent learns nothing and only uses prior knowledge. 1: Agent considers only the most recent information.\n",
    "discount_rate = 0.97 #0.97 Determines the importance of future rewards. 0 agent is short sighted and sees only current reqards. Appoaching 1, the agent strives for long term rewards.\n",
    "\n",
    "exploration_rate = 1\n",
    "max_exploration_rate = 1    #1: Guaranteed that agent starts the game by 100% exploring the environment \n",
    "min_exploration_rate = 0   #0: Agent does not explore at all. Agent only exploits (chooses actions to get max points)\n",
    "exploration_decay_rate = 0.01\n",
    "\n",
    "#Change state to represent the whole grid rather than one tile"
   ],
   "outputs": [],
   "metadata": {}
  },
  {
   "cell_type": "code",
   "execution_count": 213,
   "source": [
    "rewards_all_episodes = []\n",
    "\n",
    "# Q-Learning algorithm\n",
    "for episode in range(num_episodes):\n",
    "    \n",
    "    random_map = generate_random_map(size=4, p=0.8) # p is the probability of where the holes are\n",
    "    env = gym.make('FrozenLake-v1', is_slippery=True, desc=random_map)\n",
    "    state = env.reset()\n",
    "\n",
    "    done = False\n",
    "    rewards_current_episode = 0\n",
    "\n",
    "    for step in range (max_steps_per_episode):\n",
    "\n",
    "        # Exploration / Exploitation trade-off\n",
    "        exploration_rate_threshold = random.uniform(0, 1)\n",
    "        if exploration_rate_threshold > exploration_rate:\n",
    "            action = np.argmax(q_table[state,:])\n",
    "        else:\n",
    "            action = env.action_space.sample()\n",
    "        \n",
    "        new_state, reward, done, info = env.step(action)\n",
    "        \n",
    "        q_table[state, action] = q_table[state, action] * (1 - learning_rate) + \\\n",
    "            learning_rate * (reward + discount_rate * np.max(q_table[new_state, :]))\n",
    "\n",
    "        state = new_state\n",
    "        rewards_current_episode += reward\n",
    "\n",
    "        if done == True:\n",
    "            break\n",
    "\n",
    "    # Exploration rate decay\n",
    "    exploration_rate = min_exploration_rate + \\\n",
    "        (max_exploration_rate - min_exploration_rate) * np.exp(-exploration_decay_rate*episode)\n",
    "\n",
    "    rewards_all_episodes.append(rewards_current_episode)\n",
    "\n",
    "# Calculate reward across all episodes\n",
    "rewards_per_thousand_episodes = np.split(np.array(rewards_all_episodes), num_episodes / 1000)\n",
    "count = 1000\n",
    "count_plot = [] #for plotting\n",
    "r_plot = [] #for plotting\n",
    "print(\"*** AVG reward per 1000 episodes***\\n\")\n",
    "for r in rewards_per_thousand_episodes:\n",
    "    print(count, \": \", str(sum(r/1000)))\n",
    "    count_plot.append(count) #for plotting. \n",
    "    r_plot.append(sum(r/1000)) #for plotting\n",
    "    count += 1000\n",
    "\n",
    "\n",
    "# Print Q table\n",
    "print(\"\\n\\n *** Q-table ***\\n\")\n",
    "print(q_table)\n",
    "\n",
    "\n",
    "#Plot results \n",
    "%matplotlib inline\n",
    "#Name x-axis, y-axis and whole graph\n",
    "plt.xlabel(\"episodes\")\n",
    "plt.ylabel(\"average rewards\")\n",
    "plt.title(\"FROZEN LAKE: AVG reward per 1000 episodes\")\n",
    "# Plotting all the graphs\n",
    "plt.plot(count_plot, r_plot, color=\"darkviolet\", label = \"Push\")\n",
    "plt.grid()\n",
    "plt.legend()\n",
    "#Load the display window\n",
    "plt.show\n",
    "#set y-axis limit\n",
    "plt.ylim([0, 1])"
   ],
   "outputs": [
    {
     "output_type": "stream",
     "name": "stdout",
     "text": [
      "*** AVG reward per 1000 episodes***\n",
      "\n",
      "1000 :  0.19500000000000015\n",
      "2000 :  0.2480000000000002\n",
      "3000 :  0.20900000000000016\n",
      "4000 :  0.20800000000000016\n",
      "5000 :  0.22100000000000017\n",
      "6000 :  0.21800000000000017\n",
      "7000 :  0.22800000000000017\n",
      "8000 :  0.23800000000000018\n",
      "9000 :  0.23400000000000018\n",
      "10000 :  0.2420000000000002\n",
      "11000 :  0.2680000000000002\n",
      "12000 :  0.2480000000000002\n",
      "13000 :  0.2450000000000002\n",
      "14000 :  0.21900000000000017\n",
      "15000 :  0.2580000000000002\n",
      "16000 :  0.24000000000000019\n",
      "17000 :  0.2430000000000002\n",
      "18000 :  0.23900000000000018\n",
      "19000 :  0.2620000000000002\n",
      "20000 :  0.21300000000000016\n",
      "\n",
      "\n",
      " *** Q-table ***\n",
      "\n",
      "[[0.21431851 0.21711663 0.26909389 0.21527687]\n",
      " [0.22670582 0.22101336 0.72806113 0.22489313]\n",
      " [0.23853288 0.24309325 0.75565118 0.23849509]\n",
      " [0.25693927 0.25290735 0.93191734 0.25863473]\n",
      " [0.22230402 0.22676249 0.80590115 0.2203262 ]\n",
      " [0.22684732 0.89958602 0.23189235 0.23611371]\n",
      " [0.26554219 0.2356693  0.31106417 0.25519328]\n",
      " [0.266631   0.96276197 0.26618653 0.26516845]\n",
      " [0.22156243 0.78427669 0.22270812 0.222637  ]\n",
      " [0.25486707 0.2450389  0.92806702 0.23944755]\n",
      " [0.89924313 0.26266126 0.27005491 0.26042032]\n",
      " [0.30176632 0.99998847 0.3028507  0.29632817]\n",
      " [0.23005889 0.23140059 0.88331989 0.23137981]\n",
      " [0.23176912 0.2494542  0.969363   0.26836905]\n",
      " [0.31574006 0.28172579 0.99969727 0.30595842]\n",
      " [0.         0.         0.         0.        ]]\n"
     ]
    },
    {
     "output_type": "execute_result",
     "data": {
      "text/plain": [
       "(0.0, 1.0)"
      ]
     },
     "metadata": {},
     "execution_count": 213
    },
    {
     "output_type": "display_data",
     "data": {
      "image/png": "[encoded data removed]",
      "text/plain": [
       "<Figure size 432x288 with 1 Axes>"
      ]
     },
     "metadata": {
      "needs_background": "light"
     }
    }
   ],
   "metadata": {}
  },
  {
   "cell_type": "code",
   "execution_count": 209,
   "source": [
    "\n",
    "for episode in range(10):\n",
    "    #random map each episode\n",
    "    random_map = generate_random_map(size=4, p=0.8)\n",
    "    env = gym.make('FrozenLake-v1', is_slippery=True, desc=random_map) #generates random map for each episode\n",
    "    state = env.reset()\n",
    "    done = False\n",
    "    print(\"*****EPISODE \", episode+1, \"*****\\n\\n\\n\\n\")\n",
    "    time.sleep(1) #changed from 1\n",
    "\n",
    "    for step in range(max_steps_per_episode):        \n",
    "        clear_output(wait=True)\n",
    "        env.render()\n",
    "        time.sleep(0.3) #changed from 0.3\n",
    "        \n",
    "        action = np.argmax(q_table[state,:])        \n",
    "        new_state, reward, done, info = env.step(action)\n",
    "        \n",
    "        if done:\n",
    "            clear_output(wait=True)\n",
    "            env.render()\n",
    "            if reward == 1:\n",
    "                print(\"****You reached the goal!****\")\n",
    "                time.sleep(1) #changed from 3\n",
    "            else:\n",
    "                print(\"****You fell through a hole!****\")\n",
    "                time.sleep(1) #changed from 3\n",
    "            clear_output(wait=True)\n",
    "            break\n",
    "            \n",
    "        state = new_state\n",
    "        \n",
    "env.close()"
   ],
   "outputs": [
    {
     "output_type": "stream",
     "name": "stdout",
     "text": [
      "  (Up)\n",
      "SFF\u001b[41mF\u001b[0m\n",
      "FFFF\n",
      "FFFF\n",
      "HFFG\n",
      "****You fell through a hole!****\n"
     ]
    }
   ],
   "metadata": {}
  },
  {
   "cell_type": "markdown",
   "source": [
    "### Conclusion\n",
    "\n",
    "It is not \"possible to learn an optimal policy for the average environment\" - https://stats.stackexchange.com/questions/453150/can-an-agent-be-trained-in-a-completely-random-environment-the-rules-and-action\n",
    "\n",
    "\"The distribution of purely random numbers is uniform so there's nothing to learn....Reinforcement learning assumes your environment is stationary. The underlying probability distribution of your environment (both transition and reward function) must be held constant throughout the learning process. Sure, RL and DRL can deal with some slightly non-stationary problems, but it struggles at that. Markov Decision Processes (MDPs) and Partially-Observable MDPs assume stationarity. So value-based algorithms, which are specialized in exploiting MDP-like environments, such as SARSA, Q-learning, DQN, DDQN, Dueling DQN, etc., will have a hard time learning anything in non-stationary environments. The more you go towards policy-based algorithms, such as PPO, TRPO, or even better gradient-free, such as GA, CEM, etc., the better chance you have as these algorithms don't try to exploit this assumption. Also, playing with the learning rate would be essential to make sure the agent never stops learning..\" - https://stackoverflow.com/questions/52744919/is-reinforcement-learning-applicable-to-a-random-environment\n"
   ],
   "metadata": {}
  }
 ],
 "metadata": {
  "interpreter": {
   "hash": "916dbcbb3f70747c44a77c7bcd40155683ae19c65e1c03b4aa3499c5328201f1"
  },
  "kernelspec": {
   "name": "python3",
   "display_name": "Python 3.9.2 64-bit"
  },
  "language_info": {
   "codemirror_mode": {
    "name": "ipython",
    "version": 3
   },
   "file_extension": ".py",
   "mimetype": "text/x-python",
   "name": "python",
   "nbconvert_exporter": "python",
   "pygments_lexer": "ipython3",
   "version": "3.9.2"
  }
 },
 "nbformat": 4,
 "nbformat_minor": 2
}